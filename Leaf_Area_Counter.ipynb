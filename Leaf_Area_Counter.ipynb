{
  "nbformat": 4,
  "nbformat_minor": 0,
  "metadata": {
    "colab": {
      "name": "Beth Niko Leaf Area Counter.ipynb",
      "provenance": [],
      "collapsed_sections": [],
      "toc_visible": true,
      "machine_shape": "hm",
      "include_colab_link": true
    },
    "kernelspec": {
      "name": "python3",
      "display_name": "Python 3"
    }
  },
  "cells": [
    {
      "cell_type": "markdown",
      "metadata": {
        "id": "view-in-github",
        "colab_type": "text"
      },
      "source": [
        "<a href=\"https://colab.research.google.com/github/daripp/leaf-area-counter/blob/main/Leaf_Area_Counter.ipynb\" target=\"_parent\"><img src=\"https://colab.research.google.com/assets/colab-badge.svg\" alt=\"Open In Colab\"/></a>"
      ]
    },
    {
      "cell_type": "code",
      "metadata": {
        "colab": {
          "base_uri": "https://localhost:8080/"
        },
        "id": "_oFZT_QN0tV8",
        "outputId": "43deabc1-358b-4d47-8ea0-35037f90d9d5"
      },
      "source": [
        "#Load the Drive helper and mount\n",
        "from google.colab import drive\n",
        "# This will prompt for authorization.\n",
        "drive.mount('/content/drive',force_remount=True)\n",
        "#!ls '' "
      ],
      "execution_count": null,
      "outputs": [
        {
          "output_type": "stream",
          "text": [
            "Mounted at /content/drive\n"
          ],
          "name": "stdout"
        }
      ]
    },
    {
      "cell_type": "code",
      "metadata": {
        "colab": {
          "base_uri": "https://localhost:8080/"
        },
        "id": "_8eJkM6y0uf4",
        "outputId": "b1534f9f-d7c4-47e5-8162-9aded717ea50"
      },
      "source": [
        "import glob\n",
        "import numpy as np\n",
        "import matplotlib.pyplot as plt\n",
        "import skimage as skimage\n",
        "import scipy as scipy\n",
        "import cv2 as cv2\n",
        "import pandas as pd\n",
        "import os\n",
        "from skimage import filters, io, img_as_ubyte\n",
        "from skimage.color import rgb2grey, label2rgb\n",
        "from skimage import (exposure, feature, filters, io, measure,\n",
        "                      morphology, restoration, segmentation, transform,\n",
        "                      util)\n",
        "from skimage.exposure import match_histograms\n",
        "from skimage.filters import sobel, laplace, gaussian\n",
        "from skimage import feature\n",
        "from scipy.ndimage import morphology\n",
        "from skimage.morphology import disk, binary_dilation, diamond\n",
        "from skimage.segmentation import clear_border\n",
        "from skimage.measure import label, regionprops\n",
        "#*********************************************Put folder name here**************************************************\n",
        "directn = '/content/drive/MyDrive/VitisDrought/VitisGH_Drought2020/Data/WaterPotential/LeafScans/LeafScans_jpg/Misc.misbagged.leaves'\n",
        "filenames = os.listdir(directn)\n",
        "for filename in os.listdir(directn): \n",
        "#*******************************************makes new directory called \"(directory name here) + cropped\"********************************************\n",
        "    new_dir_name=directn+' counted and masked_'\n",
        "    if not os.path.exists(new_dir_name):\n",
        "        os.makedirs(new_dir_name)\n",
        "    #image is read from directory to system  \n",
        "\n",
        "    \n",
        "    camera1=io.imread(directn+'/'+filename)\n",
        "    image = rgb2grey(camera1)\n",
        "    img=camera1    \n",
        "    b,g,r = cv2.split(img)        \n",
        "#!!!!!!!!!!!!!!!!!!!!!!!!!!!!!Adjust Dilation and remove small objects values here!!!!!!!!!!!!!!!!!!!!!!!!!!!!!!!!!!!!!!!!!!!!!!!!!!!!!! \n",
        "    binary_dilation= disk(5)\n",
        "    remove_small_objects= 2000\n",
        "    edges_r=np.array(r, dtype='ubyte')\n",
        "    edges_b=np.array(b, dtype='ubyte')\n",
        "    edges_g=np.array(g, dtype='ubyte')\n",
        "#!!!!!!!!!!!!!!!!!!!!!!!!!!!!!Adjust threshold values here; values are additive!!!!!!!!!!!!!!!!!!!!!!!!!!!!!!!!!!!!!!!!!!!!!!!!!!!!!!!\n",
        "    edges_r1=np.where((edges_r < 85) & (edges_r > 20), 255, 0)\n",
        "    edges_b1=np.where((edges_b < 100) & (edges_b > 30), 255, 0)\n",
        "    edges_g1=np.where((edges_g < 85) & (edges_g > 20), 255, 0)\n",
        "#!!!!!!!!!!!Images converted to 0-255 scale!!!!!!!!!!!!!!!!!!!!!!!!    \n",
        "    edges_r2=img_as_ubyte(edges_r1)\n",
        "    edges_b2=img_as_ubyte(edges_b1)\n",
        "    edges_g2=img_as_ubyte(edges_g1)\n",
        "    # #edges2= feature.canny(edges2, sigma=1.5)\n",
        "#!!!!!!!!!!!!!!!!!!!!Mask expansion, adjust values above!!!!!!!!!!!!!!!!!!!!!!!!!!!!!!!!!!1\n",
        "    edges_r2=skimage.morphology.binary_dilation(edges_r2, binary_dilation)\n",
        "    edges_b2=skimage.morphology.binary_dilation(edges_b2, binary_dilation)\n",
        "    edges_g2=skimage.morphology.binary_dilation(edges_g2, binary_dilation)\n",
        "###!!!!!!!!!!!!!!!!!!!!Removes small objects marked by the computer!!!!!!!!!!!!!!!!!!!!!!!!!!!!!    \n",
        "    edges_r3 = skimage.morphology.remove_small_objects(edges_r2, min_size=remove_small_objects)\n",
        "    edges_b3 = skimage.morphology.remove_small_objects(edges_b2, min_size=remove_small_objects)\n",
        "    edges_g3 = skimage.morphology.remove_small_objects(edges_g2, min_size=remove_small_objects)\n",
        "###*************************************************!!!!!!!!!!!!!!!!Combine layers here! You don't have to combine if not helpful, but you have to tell the computer what you want!!!!!!!!!!!!!!!!!!!!!!!!!!!!!!!\n",
        "    edges_combine=edges_r3+edges_b3+edges_g3\n",
        "#**!!!!!!!!!!!!!!!Fills in holes after layers are combined!!!!!!!!!!!!!!!!!!!!!    \n",
        "    edges_rb3=scipy.ndimage.morphology.binary_fill_holes(edges_combine)\n",
        "#!!!!!!!!!!!Generates label from combined images, background is black; we can modify this code to make the masks black if necessary by changing the output colors below!!!!!!!!!!!!!!!\n",
        "    label_image = label(edges_combine, background=0)\n",
        "    image_label_overlay = label2rgb(label_image, image=camera1, bg_label=255, alpha=0.2)\n",
        "\n",
        "    d=measure.regionprops_table(label_image, image, properties=['label','area','centroid'])\n",
        "    data = pd.DataFrame(d)\n",
        "    #data.sort_values('area', inplace=True, ascending=False)\n",
        "    #label_images=label_image<1\n",
        "    #label_image[label_images]=255\n",
        "    print(data)\n",
        "#edges = clear_border(edges)\n",
        "#camera=np.array(camera)\n",
        "#camera=np.array(np.count_nonzero(255))\n",
        "#print(camera)\n",
        "#inds_x = np.arange(len(camera))\n",
        "#inds_y = (4 * inds_x) % len(camera)\n",
        "#camera[inds_x, inds_y] = 0\n",
        "\n",
        "#io.imshow(edges)\n",
        "#io.imshow(edges)\n",
        "    for j in range(len(d['centroid-0'])):\n",
        "        print(j)\n",
        "\n",
        "        position = (d['centroid-1'][j],d['centroid-0'][j])\n",
        "        cv2.putText(\n",
        "         image_label_overlay, #numpy array on which text is written\n",
        "         str(d['label'][j]), #text\n",
        "         position, #position at which writing has to start\n",
        "         cv2.FONT_HERSHEY_SIMPLEX, #font family\n",
        "         5, #font size\n",
        "         (0, 0, 0, 0),15)\n",
        "\n",
        "    \n",
        "      \n",
        "   \n",
        "        \n",
        "\n",
        "##########Switching output from 'gray' to 'binary' will invert the masks, making the background white!!!!!!!!!!!!!!!!!!!!!!!!!!!!!!!!!!!!!!!!1\n",
        "    plt.figure(dpi=300)\n",
        "    plt.imshow(edges_r3, cmap='gray')\n",
        "    #plt.savefig(new_dir_name+'/'+filename.split('.')[0]+'_red.png')\n",
        "    plt.close()\n",
        "\n",
        "    plt.figure(dpi=300)\n",
        "    plt.imshow(edges_g3, cmap='gray')\n",
        "   # plt.savefig(new_dir_name+'/'+filename.split('.')[0]+'_green.png')\n",
        "    plt.close()\n",
        "\n",
        "    plt.figure(dpi=300)\n",
        "    plt.imshow(edges_b3, cmap='gray')\n",
        "   # plt.savefig(new_dir_name+'/'+filename.split('.')[0]+'_blue.png')\n",
        "    plt.close()\n",
        "\n",
        "    plt.figure(dpi=300)\n",
        "    plt.imshow(edges_combine, cmap='gray')\n",
        "    plt.savefig(new_dir_name+'/'+filename.split('.')[0]+'_combined.png')\n",
        "    plt.close()\n",
        "\n",
        "    plt.figure(dpi=300)\n",
        "    plt.imshow(image_label_overlay)\n",
        "    plt.savefig(new_dir_name+'/'+filename.split('.')[0]+'combined_image_label_overlay.png')\n",
        "    data['ID'] = \"\"\n",
        "    data['Notes'] = \"\"\n",
        "    data['scan'] = filename\n",
        "    data.to_excel(new_dir_name+'/'+filename.split('.')[0]+'combined_image_labeloverlaydata.xlsx')\n",
        "    plt.close()\n",
        "\n",
        "\n",
        "    # io.imsave(new_dir_name+'/'+filename.split('.')[0]+'red.jpeg', edges_r3)\n",
        "    # io.imsave(new_dir_name+'/'+filename.split('.')[0]+'blue.jpeg', edges_b3)\n",
        "    # io.imsave(new_dir_name+'/'+filename.split('.')[0]+'green.jpeg', edges_g3)\n",
        "\n",
        "    # data.to_excel(new_dir_name+'/'+filename.split('.')[0]+'.xlsx')"
      ],
      "execution_count": null,
      "outputs": [
        {
          "output_type": "stream",
          "text": [
            "/usr/local/lib/python3.7/dist-packages/skimage/util/dtype.py:503: UserWarning: Downcasting int64 to uint8 without scaling because max value 255 fits in uint8\n",
            "  return convert(image, np.uint8, force_copy)\n"
          ],
          "name": "stderr"
        },
        {
          "output_type": "stream",
          "text": [
            "   label     area  centroid-0  centroid-1\n",
            "0      1   169684         226         590\n",
            "1      2    10714           3        2014\n",
            "2      3  1390092        1119        1715\n",
            "3      4   826012        1970         674\n",
            "4      5  1422047        2811        1823\n",
            "5      6   692932        3033         490\n",
            "0\n",
            "1\n",
            "2\n",
            "3\n",
            "4\n",
            "5\n"
          ],
          "name": "stdout"
        },
        {
          "output_type": "stream",
          "text": [
            "/usr/local/lib/python3.7/dist-packages/skimage/util/dtype.py:503: UserWarning: Downcasting int64 to uint8 without scaling because max value 255 fits in uint8\n",
            "  return convert(image, np.uint8, force_copy)\n"
          ],
          "name": "stderr"
        },
        {
          "output_type": "stream",
          "text": [
            "   label     area  centroid-0  centroid-1\n",
            "0      1  1305689        1883         659\n",
            "1      2   145416          56         867\n",
            "2      3  1404732         929        1900\n",
            "3      4   628282         728         634\n",
            "4      5  1629077        2662        1835\n",
            "0\n",
            "1\n",
            "2\n",
            "3\n",
            "4\n"
          ],
          "name": "stdout"
        },
        {
          "output_type": "stream",
          "text": [
            "/usr/local/lib/python3.7/dist-packages/skimage/util/dtype.py:503: UserWarning: Downcasting int64 to uint8 without scaling because max value 255 fits in uint8\n",
            "  return convert(image, np.uint8, force_copy)\n"
          ],
          "name": "stderr"
        },
        {
          "output_type": "stream",
          "text": [
            "   label     area  centroid-0  centroid-1\n",
            "0      1   137519          58         685\n",
            "1      2     9251           3        2014\n",
            "2      3    12626         904           3\n",
            "3      4   465278         587        1614\n",
            "4      5   657478         690         646\n",
            "5      6   603643        1462        2067\n",
            "6      7  1762182        2101         876\n",
            "7      8  1004528        2956        1835\n",
            "0\n",
            "1\n",
            "2\n",
            "3\n",
            "4\n",
            "5\n",
            "6\n",
            "7\n"
          ],
          "name": "stdout"
        },
        {
          "output_type": "stream",
          "text": [
            "/usr/local/lib/python3.7/dist-packages/skimage/util/dtype.py:503: UserWarning: Downcasting int64 to uint8 without scaling because max value 255 fits in uint8\n",
            "  return convert(image, np.uint8, force_copy)\n"
          ],
          "name": "stderr"
        },
        {
          "output_type": "stream",
          "text": [
            "   label     area  centroid-0  centroid-1\n",
            "0      1   139292          57         678\n",
            "1      2  1034786        2146        1321\n",
            "2      3     4776        3158        2582\n",
            "0\n",
            "1\n",
            "2\n"
          ],
          "name": "stdout"
        },
        {
          "output_type": "stream",
          "text": [
            "/usr/local/lib/python3.7/dist-packages/skimage/util/dtype.py:503: UserWarning: Downcasting int64 to uint8 without scaling because max value 255 fits in uint8\n",
            "  return convert(image, np.uint8, force_copy)\n"
          ],
          "name": "stderr"
        },
        {
          "output_type": "stream",
          "text": [
            "   label     area  centroid-0  centroid-1\n",
            "0      1   136438          57         684\n",
            "1      2     7369           2        2064\n",
            "2      3    12956         910           3\n",
            "3      4  1889407         984        1797\n",
            "4      5   966074        1868         820\n",
            "5      6  1095098        2782        1964\n",
            "6      7   617193        2920         819\n",
            "0\n",
            "1\n",
            "2\n",
            "3\n",
            "4\n",
            "5\n",
            "6\n"
          ],
          "name": "stdout"
        }
      ]
    },
    {
      "cell_type": "code",
      "metadata": {
        "id": "19W08a271Ex4"
      },
      "source": [
        "#Code to append the various excel files generated into a single excel file. COMPLETED 2/20\n",
        "\n",
        "import os\n",
        "import pandas as pd\n",
        "import numpy as np\n",
        "import ntpath\n",
        "################################### Put the folder name that has the excel files in it ############################\n",
        "cwd = os.path.abspath('/content/drive/MyDrive/VitisDrought/VitisGH_Drought2020/Data/WaterPotential/LeafScans/LeafScans_jpg/Misc.misbagged.leaves counted and masked_') \n",
        "os.chdir(cwd)\n",
        "files = os.listdir(cwd) \n",
        "df = pd.DataFrame()\n",
        "for file in files:\n",
        "    if file.endswith('.xlsx'):\n",
        "        df = df.append(pd.read_excel(cwd+'/'+file), ignore_index=True) \n",
        "df['Area_cm2'] = df['area']/14400  #For the jpg scans of the leaves in the GHDrydown 2020 experiment, 60 pixels equaled 1cm so to convert to cm2 I divided by the total pixel# in a cm2. CHECK THIS RATIO FOR FUTURE PROJECTS\n",
        "\n",
        "filename=ntpath.basename(cwd)\n",
        "df.to_excel(filename+'_complete.xlsx')"
      ],
      "execution_count": null,
      "outputs": []
    }
  ]
}